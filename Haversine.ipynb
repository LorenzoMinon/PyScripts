{
 "cells": [
  {
   "cell_type": "code",
   "execution_count": null,
   "id": "4844aabf-2962-4de0-a4cf-7a63f227d9e0",
   "metadata": {},
   "outputs": [],
   "source": [
    "import pandas as pd\n",
    "from math import radians, sin, cos, sqrt, atan2\n",
    "\n",
    "# Function to calculate the distance between two geographic coordinates using the Haversine formula\n",
    "def haversine(lat1, lon1, lat2, lon2):\n",
    "    R = 3958.8  # Radius of the Earth in miles\n",
    "    # Convert latitude and longitude from degrees to radians\n",
    "    lat1, lon1, lat2, lon2 = map(radians, [lat1, lon1, lat2, lon2])\n",
    "    \n",
    "    # Haversine formula to calculate the great-circle distance\n",
    "    dlat = lat2 - lat1  # Difference in latitudes\n",
    "    dlon = lon2 - lon1  # Difference in longitudes\n",
    "    a = sin(dlat / 2)**2 + cos(lat1) * cos(lat2) * sin(dlon / 2)**2  # Haversine formula component\n",
    "    c = 2 * atan2(sqrt(a), sqrt(1 - a))  # Central angle\n",
    "    distance = R * c  # Distance in miles\n",
    "    return distance\n",
    "\n",
    "# Path to the input Excel file\n",
    "file_path = \"coordsmatch.xlsx\"  \n",
    "data = pd.read_excel(file_path)  # Load the Excel file into a pandas DataFrame\n",
    "\n",
    "# Calculate the distance for each row and update the \"Distance\" column\n",
    "data['Distance'] = data.apply(\n",
    "    lambda row: haversine(row['facility_lat'], row['facility_long'], row['tenant_latitude'], row['tenant_longitude'])\n",
    "    if row['tenant_latitude'] != 0 and row['tenant_longitude'] != 0 else 0, axis=1\n",
    ")\n",
    "\n",
    "# Path to save the updated Excel file\n",
    "output_path = \"Haversine_Updated.xlsx\"  \n",
    "#data.to_excel(output_path, index=False)  # Save the updated DataFrame to a new Excel file\n",
    "\n",
    "# Print confirmation message with the output file path\n",
    "print(f\"Updated file saved at: {output_path}\")\n"
   ]
  },
  {
   "cell_type": "code",
   "execution_count": null,
   "id": "f5fddf8b-2f58-4fa9-bcb2-9f9d0f2a8c3a",
   "metadata": {},
   "outputs": [],
   "source": []
  }
 ],
 "metadata": {
  "kernelspec": {
   "display_name": "Python 3 (ipykernel)",
   "language": "python",
   "name": "python3"
  },
  "language_info": {
   "codemirror_mode": {
    "name": "ipython",
    "version": 3
   },
   "file_extension": ".py",
   "mimetype": "text/x-python",
   "name": "python",
   "nbconvert_exporter": "python",
   "pygments_lexer": "ipython3",
   "version": "3.11.0"
  }
 },
 "nbformat": 4,
 "nbformat_minor": 5
}
